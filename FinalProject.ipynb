{
 "cells": [
  {
   "cell_type": "markdown",
   "id": "8a72dd4c-5a30-429f-bedf-3cbafa8045c5",
   "metadata": {},
   "source": [
    "# Stroke Predictor\n",
    "\n",
    "By: Nain415\n",
    "\n",
    "Inspired by: Paul Schrimpf, Chase Coleman, Spencer Lyon, and Jesse Perla.  QuantEcon DataScience.\n"
   ]
  },
  {
   "cell_type": "code",
   "execution_count": 1,
   "id": "3deb6f74-cfcd-484f-9a7d-e01574bbae6a",
   "metadata": {},
   "outputs": [],
   "source": [
    "import matplotlib.pyplot as plt\n",
    "import numpy as np\n",
    "import pandas as pd\n",
    "import seaborn as sns\n",
    "import sklearn\n",
    "from sklearn import linear_model\n",
    "%matplotlib inline"
   ]
  },
  {
   "cell_type": "markdown",
   "id": "d5e6b1e1-225f-46d7-bbc0-e72eb5ffcbf1",
   "metadata": {},
   "source": [
    "The project uses a dataset that is publicly accessible at kaggle: https://www.kaggle.com/fedesoriano/stroke-prediction-dataset.\n",
    "\n",
    "It involves 5109 patients, and some variables of interest include:\n",
    "\n",
    "- gender\n",
    "- age\n",
    "- hypertension: whether the patient regularly experiences high blood pressure.\n",
    "- heart_disease: whether the patient suffers from any variety of heart diseases.\n",
    "- avg_glucose_level: a measure of blood sugar.\n",
    "- bmi: a measure of body fat that's typically estimated by one's height & weight.\n",
    "- smoking_status: whether a patient smokes, doesn't smoke, or has formerly smoked.\n",
    "- stroke: did the patient eventually have a stroke?\n",
    "\n",
    "We'll investigate some questions concerning the interaction between these variables, and stroke probability.  The final goal will be to predict a person's probability of stroke through his age, gender, BMI, and whether he smokes or not, because they're variables that anyone can provide."
   ]
  },
  {
   "cell_type": "code",
   "execution_count": 2,
   "id": "c8edf4d6-7cde-4d04-8b89-921318c4212e",
   "metadata": {},
   "outputs": [
    {
     "data": {
      "text/html": [
       "<div>\n",
       "<style scoped>\n",
       "    .dataframe tbody tr th:only-of-type {\n",
       "        vertical-align: middle;\n",
       "    }\n",
       "\n",
       "    .dataframe tbody tr th {\n",
       "        vertical-align: top;\n",
       "    }\n",
       "\n",
       "    .dataframe thead th {\n",
       "        text-align: right;\n",
       "    }\n",
       "</style>\n",
       "<table border=\"1\" class=\"dataframe\">\n",
       "  <thead>\n",
       "    <tr style=\"text-align: right;\">\n",
       "      <th></th>\n",
       "      <th>id</th>\n",
       "      <th>gender</th>\n",
       "      <th>age</th>\n",
       "      <th>hypertension</th>\n",
       "      <th>heart_disease</th>\n",
       "      <th>ever_married</th>\n",
       "      <th>work_type</th>\n",
       "      <th>Residence_type</th>\n",
       "      <th>avg_glucose_level</th>\n",
       "      <th>bmi</th>\n",
       "      <th>smoking_status</th>\n",
       "      <th>stroke</th>\n",
       "    </tr>\n",
       "  </thead>\n",
       "  <tbody>\n",
       "    <tr>\n",
       "      <th>0</th>\n",
       "      <td>9046</td>\n",
       "      <td>Male</td>\n",
       "      <td>67.0</td>\n",
       "      <td>0</td>\n",
       "      <td>1</td>\n",
       "      <td>Yes</td>\n",
       "      <td>Private</td>\n",
       "      <td>Urban</td>\n",
       "      <td>228.69</td>\n",
       "      <td>36.6</td>\n",
       "      <td>formerly smoked</td>\n",
       "      <td>1</td>\n",
       "    </tr>\n",
       "    <tr>\n",
       "      <th>1</th>\n",
       "      <td>51676</td>\n",
       "      <td>Female</td>\n",
       "      <td>61.0</td>\n",
       "      <td>0</td>\n",
       "      <td>0</td>\n",
       "      <td>Yes</td>\n",
       "      <td>Self-employed</td>\n",
       "      <td>Rural</td>\n",
       "      <td>202.21</td>\n",
       "      <td>NaN</td>\n",
       "      <td>never smoked</td>\n",
       "      <td>1</td>\n",
       "    </tr>\n",
       "    <tr>\n",
       "      <th>2</th>\n",
       "      <td>31112</td>\n",
       "      <td>Male</td>\n",
       "      <td>80.0</td>\n",
       "      <td>0</td>\n",
       "      <td>1</td>\n",
       "      <td>Yes</td>\n",
       "      <td>Private</td>\n",
       "      <td>Rural</td>\n",
       "      <td>105.92</td>\n",
       "      <td>32.5</td>\n",
       "      <td>never smoked</td>\n",
       "      <td>1</td>\n",
       "    </tr>\n",
       "    <tr>\n",
       "      <th>3</th>\n",
       "      <td>60182</td>\n",
       "      <td>Female</td>\n",
       "      <td>49.0</td>\n",
       "      <td>0</td>\n",
       "      <td>0</td>\n",
       "      <td>Yes</td>\n",
       "      <td>Private</td>\n",
       "      <td>Urban</td>\n",
       "      <td>171.23</td>\n",
       "      <td>34.4</td>\n",
       "      <td>smokes</td>\n",
       "      <td>1</td>\n",
       "    </tr>\n",
       "    <tr>\n",
       "      <th>4</th>\n",
       "      <td>1665</td>\n",
       "      <td>Female</td>\n",
       "      <td>79.0</td>\n",
       "      <td>1</td>\n",
       "      <td>0</td>\n",
       "      <td>Yes</td>\n",
       "      <td>Self-employed</td>\n",
       "      <td>Rural</td>\n",
       "      <td>174.12</td>\n",
       "      <td>24.0</td>\n",
       "      <td>never smoked</td>\n",
       "      <td>1</td>\n",
       "    </tr>\n",
       "  </tbody>\n",
       "</table>\n",
       "</div>"
      ],
      "text/plain": [
       "      id  gender   age  hypertension  heart_disease ever_married  \\\n",
       "0   9046    Male  67.0             0              1          Yes   \n",
       "1  51676  Female  61.0             0              0          Yes   \n",
       "2  31112    Male  80.0             0              1          Yes   \n",
       "3  60182  Female  49.0             0              0          Yes   \n",
       "4   1665  Female  79.0             1              0          Yes   \n",
       "\n",
       "       work_type Residence_type  avg_glucose_level   bmi   smoking_status  \\\n",
       "0        Private          Urban             228.69  36.6  formerly smoked   \n",
       "1  Self-employed          Rural             202.21   NaN     never smoked   \n",
       "2        Private          Rural             105.92  32.5     never smoked   \n",
       "3        Private          Urban             171.23  34.4           smokes   \n",
       "4  Self-employed          Rural             174.12  24.0     never smoked   \n",
       "\n",
       "   stroke  \n",
       "0       1  \n",
       "1       1  \n",
       "2       1  \n",
       "3       1  \n",
       "4       1  "
      ]
     },
     "execution_count": 2,
     "metadata": {},
     "output_type": "execute_result"
    }
   ],
   "source": [
    "stroke_data = pd.read_csv(\"https://github.com/Nain415/econ323project/raw/main/healthcare-dataset-stroke-data.csv\", na_values = [\"Unknown\", \"NaN\"])\n",
    "#stroke_data = pd.read_csv(\"https://github.com/Nain415/econ323project/raw/main/healthcare-dataset-stroke-data.csv\")\n",
    "stroke_data.head()"
   ]
  },
  {
   "cell_type": "markdown",
   "id": "1d17b9b9-3df6-4a67-a80e-83dec945fae5",
   "metadata": {},
   "source": [
    "# The relationship between smoking and having a stroke."
   ]
  },
  {
   "cell_type": "code",
   "execution_count": 3,
   "id": "7dac8b69-dafd-4f4f-a68c-57c00e5cdab8",
   "metadata": {},
   "outputs": [],
   "source": [
    "stroke_data_smoke = stroke_data[[\"smoking_status\", \"stroke\"]]"
   ]
  },
  {
   "cell_type": "code",
   "execution_count": 4,
   "id": "775fb0ed-9f32-4310-b8a4-700fbc93bc57",
   "metadata": {},
   "outputs": [],
   "source": [
    "stroke_data_smoke = stroke_data_smoke.dropna();"
   ]
  },
  {
   "cell_type": "code",
   "execution_count": 5,
   "id": "5d25f036-9c94-4ac9-95c4-cafb3842edde",
   "metadata": {},
   "outputs": [],
   "source": [
    "smoked_stroke = stroke_data_smoke[stroke_data_smoke[\"smoking_status\"] == \"smokes\"]\n",
    "formerly_smoked_stroke = stroke_data_smoke[stroke_data_smoke[\"smoking_status\"] == \"formerly smoked\"]\n",
    "non_smoker_stroke = stroke_data_smoke[stroke_data_smoke[\"smoking_status\"] == \"never smoked\"]\n",
    "\n",
    "smoked_stroke_true = smoked_stroke[smoked_stroke[\"stroke\"] == 1]\n",
    "formerly_smoked_stroke_true = formerly_smoked_stroke[formerly_smoked_stroke[\"stroke\"] == 1]\n",
    "non_smoker_stroke_true = non_smoker_stroke[non_smoker_stroke[\"stroke\"] == 1]"
   ]
  },
  {
   "cell_type": "code",
   "execution_count": 6,
   "id": "109750f2-0e15-4185-91e1-7c2871795f30",
   "metadata": {
    "tags": []
   },
   "outputs": [],
   "source": [
    "Ratios = [len(smoked_stroke_true)/len(smoked_stroke), len(formerly_smoked_stroke_true)/len(formerly_smoked_stroke), len(non_smoker_stroke_true)/len(non_smoker_stroke)]"
   ]
  },
  {
   "cell_type": "code",
   "execution_count": 7,
   "id": "a8d5547c-19c7-4133-bf8c-39bed39ca676",
   "metadata": {},
   "outputs": [
    {
     "data": {
      "text/plain": [
       "Text(0.5, 0.98, 'Probability of Stroke (Limited to dataset)')"
      ]
     },
     "execution_count": 7,
     "metadata": {},
     "output_type": "execute_result"
    },
    {
     "data": {
      "image/png": "[encoded data removed]",
      "text/plain": [
       "<Figure size 432x288 with 1 Axes>"
      ]
     },
     "metadata": {
      "needs_background": "light"
     },
     "output_type": "display_data"
    }
   ],
   "source": [
    "#uses code from my submission of Problem Set 7 for Econ 323 in Fall 2021 at UBC Vancouver\n",
    "df = pd.DataFrame(\n",
    "    {\"values\": [Ratios[2]*100, Ratios[0]*100, Ratios[1]*100]},\n",
    "    index=[\"Non-Smoker\", \"Smoker\", \"Former Smoker\"]\n",
    ")\n",
    "\n",
    "fig, ax = plt.subplots()\n",
    "\n",
    "df.plot(kind='bar', rot=0, ax=ax, y=\"values\", legend=False, color = [(0.5,0.4,0.5), (0.65,0.4,0.5), (0.72,0.4,0.5)])\n",
    "ax.set_ylabel(\"Percent who had stroke\")\n",
    "fig.suptitle(\"Probability of Stroke (Limited to dataset)\")"
   ]
  },
  {
   "cell_type": "markdown",
   "id": "737a13fc-a553-4a49-9c2b-44fd7d614843",
   "metadata": {},
   "source": [
    "As expected, smokers and former smokers have a higher probability of a stroke.  Curiously, the probability of a stroke was much higher for former smokers than any other category.  In summary, smoking is evidenced to inflict permanent harm to one's heart health.\n",
    "\n",
    "One possible explanation is that former smokers are of an advanced age compared to others, and I suspect there is a relationship between age and stroke probability."
   ]
  },
  {
   "cell_type": "markdown",
   "id": "a3273b90-a363-47af-9529-1698a0db7781",
   "metadata": {},
   "source": [
    "# The relationship between age and having a stroke."
   ]
  },
  {
   "cell_type": "code",
   "execution_count": 8,
   "id": "65379bd7-d135-4723-9d34-6af56d6b5878",
   "metadata": {},
   "outputs": [],
   "source": [
    "#uses code from my submission of Problem Set 7 for Econ 323 in Fall 2021 at UBC Vancouver\n",
    "\n",
    "stroke_data_age = stroke_data[[\"age\", \"stroke\"]]\n",
    "one_bin = stroke_data_age[stroke_data_age[\"age\"] < 10]\n",
    "two_bin = stroke_data_age[(stroke_data_age[\"age\"] < 20) & (stroke_data_age[\"age\"] >= 10)]\n",
    "three_bin = stroke_data_age[(stroke_data_age[\"age\"] < 30) & (stroke_data_age[\"age\"] >= 20)]\n",
    "four_bin = stroke_data_age[(stroke_data_age[\"age\"] < 40) & (stroke_data_age[\"age\"] >= 30)]\n",
    "five_bin = stroke_data_age[(stroke_data_age[\"age\"] < 50) & (stroke_data_age[\"age\"] >= 40)]\n",
    "six_bin = stroke_data_age[(stroke_data_age[\"age\"] < 60) & (stroke_data_age[\"age\"] >= 50)]\n",
    "seven_bin = stroke_data_age[(stroke_data_age[\"age\"] < 70) & (stroke_data_age[\"age\"] >= 60)]\n",
    "eight_bin = stroke_data_age[stroke_data_age[\"age\"] >= 70]\n",
    "\n",
    "stroke_victims = [one_bin[one_bin[\"stroke\"] == 1],\n",
    "two_bin[two_bin[\"stroke\"] == 1],\n",
    "three_bin[three_bin[\"stroke\"] == 1],\n",
    "four_bin[four_bin[\"stroke\"] == 1],\n",
    "five_bin[five_bin[\"stroke\"] == 1],\n",
    "six_bin[six_bin[\"stroke\"] == 1],\n",
    "seven_bin[seven_bin[\"stroke\"] == 1],\n",
    "eight_bin[eight_bin[\"stroke\"] == 1]\n",
    "];\n",
    "\n",
    "Ratios2 = [len(stroke_victims[0])/len(one_bin), \n",
    "            len(stroke_victims[1])/len(two_bin),\n",
    "            len(stroke_victims[2])/len(three_bin),\n",
    "            len(stroke_victims[3])/len(four_bin),\n",
    "            len(stroke_victims[4])/len(five_bin),\n",
    "            len(stroke_victims[5])/len(six_bin),\n",
    "            len(stroke_victims[6])/len(seven_bin),\n",
    "            len(stroke_victims[7])/len(eight_bin)\n",
    "            ]\n",
    "#formerly_smoked_stroke[formerly_smoked_stroke[\"stroke\"] == 1]\n"
   ]
  },
  {
   "cell_type": "code",
   "execution_count": 9,
   "id": "4adc34c1-bfc5-4944-83d8-a975ba48ace0",
   "metadata": {},
   "outputs": [
    {
     "data": {
      "text/plain": [
       "Text(0.5, 0.98, 'Probability of Stroke (Limited to dataset)')"
      ]
     },
     "execution_count": 9,
     "metadata": {},
     "output_type": "execute_result"
    },
    {
     "data": {
      "image/png": "[encoded data removed]",
      "text/plain": [
       "<Figure size 432x288 with 1 Axes>"
      ]
     },
     "metadata": {
      "needs_background": "light"
     },
     "output_type": "display_data"
    }
   ],
   "source": [
    "df = pd.DataFrame(\n",
    "    {\"values\": Ratios2},\n",
    "    index=[\"0-9\", \"10-19\", \"20-29\", \"30-39\", \"40-49\", \"50-59\", \"60-69\", \"70-82\"]\n",
    ")\n",
    "\n",
    "fig, ax = plt.subplots()\n",
    "\n",
    "df.plot(kind='bar', rot=0, ax=ax, y=\"values\", legend=False)\n",
    "\n",
    "ax.set_xlabel(\"age\")\n",
    "ax.set_ylabel(\"num of stroke victims / population\")\n",
    "fig.suptitle(\"Probability of Stroke (Limited to dataset)\")"
   ]
  },
  {
   "cell_type": "markdown",
   "id": "c2086f79-ef6b-4953-84ea-5d372086ef58",
   "metadata": {},
   "source": [
    "It seems that there is indeed a trend of increasing stroke chance with age.  There are striking increases in stroke probability beginning at ages 50-59, and after one's 60s.  The eldest patient in the dataset was 82 years old.\n",
    "\n",
    "I interpret the non-zero probabilities from ages 0-19, along with the gap from 20-29, to indicate that undiagnosed heart defects from birth tend to surface earlier rather than later.\n",
    "\n",
    "Additionally, the rise at 50-59 and 70+ is in harmony with most of society's definitions of middle-age and elderhood.  However, age is typically synonymous with inactivity, and a sedentary life is synonymous with weight gain.  Therefore, I'm curious if much of this increase in stroke probability can be explained by BMI; after all, it's not an unknown fact that high BMI individuals suffer from health complications.\n",
    "\n",
    "First, I'll examine whether I'm correct in relating BMI and age."
   ]
  },
  {
   "cell_type": "markdown",
   "id": "bce84222-70fb-4356-9a4c-f3c165b07b24",
   "metadata": {},
   "source": [
    "# Are age and bmi connected?"
   ]
  },
  {
   "cell_type": "code",
   "execution_count": 10,
   "id": "fcc29ff4-4656-4255-bba4-d95e993b01a7",
   "metadata": {},
   "outputs": [],
   "source": [
    "age_bmi_data = stroke_data[[\"bmi\", \"age\"]]\n",
    "age_bmi_data = age_bmi_data.dropna();\n",
    "age_bmi_data = age_bmi_data[age_bmi_data[\"bmi\"] < 70] #remove the few extreme outliers"
   ]
  },
  {
   "cell_type": "code",
   "execution_count": 11,
   "id": "73798486-1209-4fa3-828b-8e118be66ff3",
   "metadata": {},
   "outputs": [
    {
     "name": "stdout",
     "output_type": "stream",
     "text": [
      "[23.81450739]\n",
      "[0.11738717]\n"
     ]
    },
    {
     "data": {
      "image/png": "[encoded data removed]",
      "text/plain": [
       "<Figure size 432x288 with 1 Axes>"
      ]
     },
     "metadata": {
      "needs_background": "light"
     },
     "output_type": "display_data"
    }
   ],
   "source": [
    "fig, ax = plt.subplots()\n",
    "age_bmi_data[age_bmi_data[\"age\"] < 20].plot(kind=\"scatter\", x=\"age\", y=\"bmi\", ax=ax, color=(0.5,0.5,0.5))\n",
    "age_bmi_data[(age_bmi_data[\"age\"] < 30) & (age_bmi_data[\"age\"] >= 20) ].plot(kind=\"scatter\", x=\"age\", y=\"bmi\", ax=ax, color=(0.55,0.5,0.5))\n",
    "age_bmi_data[(age_bmi_data[\"age\"] < 40) & (age_bmi_data[\"age\"] >= 30) ].plot(kind=\"scatter\", x=\"age\", y=\"bmi\", ax=ax, color=(0.6,0.5,0.5))\n",
    "age_bmi_data[(age_bmi_data[\"age\"] < 50) & (age_bmi_data[\"age\"] >= 40) ].plot(kind=\"scatter\", x=\"age\", y=\"bmi\", ax=ax, color=(0.65,0.5,0.5))\n",
    "age_bmi_data[(age_bmi_data[\"age\"] < 60) & (age_bmi_data[\"age\"] >= 50) ].plot(kind=\"scatter\", x=\"age\", y=\"bmi\", ax=ax, color=(0.7,0.5,0.5))\n",
    "age_bmi_data[(age_bmi_data[\"age\"] < 70) & (age_bmi_data[\"age\"] >= 60) ].plot(kind=\"scatter\", x=\"age\", y=\"bmi\", ax=ax, color=(0.75,0.5,0.5))\n",
    "age_bmi_data[(age_bmi_data[\"age\"] >= 70)].plot(kind=\"scatter\", x=\"age\", y=\"bmi\", ax=ax, color=(0.8,0.5,0.5))\n",
    "#age_bmi_data.plot(x='bmi', y='age', style='o')\n",
    "\n",
    "#code borrowed from https://datascience.quantecon.org/applications/regression.html\n",
    "sns.regplot(data=age_bmi_data, x=\"age\", y=\"bmi\", scatter=False, ax=ax)\n",
    "\n",
    "age_bmi_lr_model = linear_model.LinearRegression();\n",
    "age_bmi_lr_model.fit(age_bmi_data[[\"age\"]], age_bmi_data[[\"bmi\"]]);\n",
    "beta_0 = age_bmi_lr_model.intercept_\n",
    "beta_1 = age_bmi_lr_model.coef_[0]\n",
    "\n",
    "print(beta_0)\n",
    "print(beta_1)\n"
   ]
  },
  {
   "cell_type": "markdown",
   "id": "afd93280-3b42-421d-9454-dba17fed6778",
   "metadata": {},
   "source": [
    "There appears to be a relationship between BMI and age, albeit not terribly extreme.  Linear regression estimates that they're related by the equation:\n",
    "\n",
    "$$BMI \\approx 23.81 + (0.12)age + \\epsilon$$\n",
    "\n",
    "Where $\\epsilon$ is the error term.  Without even doing a direct computation for relating BMI and stroke probability, because of BMI's connection with age, and age's relation to stroke probability, we can say with some degree of confidence that increased BMI is tied with increased stroke probability.  For the sake of completion, and to satisfy any curiosity, it's best to next evaluate the final variable of interest's predictive power: gender.  Once that evaluation complete, I believe we'll be confident that our variable choices are reasonable, and we can use multiple regression to predict the probability a person will suffer from a stroke."
   ]
  },
  {
   "cell_type": "markdown",
   "id": "2874f337-bc80-4189-bfa0-0f80a265c5cb",
   "metadata": {},
   "source": [
    "# Gender and stroke chance"
   ]
  },
  {
   "cell_type": "code",
   "execution_count": 12,
   "id": "3074d80e-834a-4371-a05b-ec0346428aaa",
   "metadata": {},
   "outputs": [],
   "source": [
    "gender_stroke_data = stroke_data[[\"gender\", \"stroke\"]]\n",
    "gender_stroke_data.dropna();"
   ]
  },
  {
   "cell_type": "code",
   "execution_count": 13,
   "id": "b3876a82-0c9b-4508-8359-b681f6f3f88d",
   "metadata": {},
   "outputs": [
    {
     "name": "stderr",
     "output_type": "stream",
     "text": [
      "/tmp/ipykernel_1105/3699367289.py:1: SettingWithCopyWarning: \n",
      "A value is trying to be set on a copy of a slice from a DataFrame.\n",
      "Try using .loc[row_indexer,col_indexer] = value instead\n",
      "\n",
      "See the caveats in the documentation: https://pandas.pydata.org/pandas-docs/stable/user_guide/indexing.html#returning-a-view-versus-a-copy\n",
      "  gender_stroke_data['gender'] = gender_stroke_data['gender'].map({'Female': 1, 'Male': 0})\n"
     ]
    }
   ],
   "source": [
    "gender_stroke_data['gender'] = gender_stroke_data['gender'].map({'Female': 1, 'Male': 0})"
   ]
  },
  {
   "cell_type": "code",
   "execution_count": 14,
   "id": "fc86e6db-1618-4c83-9e23-5c8109836a0a",
   "metadata": {},
   "outputs": [],
   "source": [
    "male_ratio = len(gender_stroke_data[(gender_stroke_data['gender'] == 0) & (gender_stroke_data['stroke'] == 1)])/len(gender_stroke_data[gender_stroke_data['gender'] == 0])\n",
    "female_ratio = len(gender_stroke_data[(gender_stroke_data['gender'] == 1) & (gender_stroke_data['stroke'] == 1)])/len(gender_stroke_data[gender_stroke_data['gender'] == 1])"
   ]
  },
  {
   "cell_type": "code",
   "execution_count": 15,
   "id": "f6b6f586-04a6-4803-8737-621f171bbe06",
   "metadata": {},
   "outputs": [
    {
     "data": {
      "text/plain": [
       "Text(0.5, 0.98, 'Probability of Stroke by Gender (Limited to dataset)')"
      ]
     },
     "execution_count": 15,
     "metadata": {},
     "output_type": "execute_result"
    },
    {
     "data": {
      "image/png": "[encoded data removed]",
      "text/plain": [
       "<Figure size 432x288 with 2 Axes>"
      ]
     },
     "metadata": {
      "needs_background": "light"
     },
     "output_type": "display_data"
    }
   ],
   "source": [
    "#uses code from my submission of Problem Set 7 for Econ 323 in Fall 2021 at UBC Vancouver\n",
    "#also https://datascience.quantecon.org/applications/visualization_rules.html\n",
    "df = pd.DataFrame(\n",
    "    {\"values\": [male_ratio*100, female_ratio*100]},\n",
    "    index=[\"Men\", \"Women\"]\n",
    ")\n",
    "\n",
    "fig, ax = plt.subplots(1, 2)\n",
    "\n",
    "df.plot(kind='bar', rot=0, ax=ax[0], y=\"values\", legend=False, color=[(0.55,0.5,0.5), (0.5,0.55,0.5)])\n",
    "df.plot(kind='pie', ax=ax[1], y=\"values\", legend=False,  startangle=90)\n",
    "ax[0].set_xlabel(\"gender\")\n",
    "ax[0].set_ylabel(\"percentage of victims in population\")\n",
    "ax[1].set_ylabel(\"\")\n",
    "\n",
    "ax[0].spines['top'].set_visible(False)\n",
    "ax[0].spines['right'].set_visible(False)\n",
    "\n",
    "\n",
    "fig.suptitle(\"Probability of Stroke by Gender (Limited to dataset)\")"
   ]
  },
  {
   "cell_type": "markdown",
   "id": "6f3ac16b-b26d-46ab-926e-8d8f81ca84ff",
   "metadata": {},
   "source": [
    "In the given dataset, there seems to be a slight tendency for men to suffer from strokes at a greater rate than women, and so it probably is a variable worth keeping in the final prediction."
   ]
  },
  {
   "cell_type": "markdown",
   "id": "00f23018-4c56-473f-8561-2404e56c20d9",
   "metadata": {},
   "source": [
    "# Stroke Prediction Calculator\n"
   ]
  },
  {
   "cell_type": "code",
   "execution_count": 16,
   "id": "9d24ec82-3fc0-4490-a861-06efa1a5f31c",
   "metadata": {
    "tags": []
   },
   "outputs": [],
   "source": [
    "stroke_data_filtered = stroke_data[[\"gender\", \"age\", \"bmi\", \"smoking_status\", \"stroke\"]]\n",
    "stroke_data_filtered = stroke_data_filtered"
   ]
  },
  {
   "cell_type": "code",
   "execution_count": 17,
   "id": "842c4507-0ea8-4943-9ae9-735a7a6b730d",
   "metadata": {},
   "outputs": [
    {
     "name": "stderr",
     "output_type": "stream",
     "text": [
      "/tmp/ipykernel_1105/1278451117.py:5: SettingWithCopyWarning: \n",
      "A value is trying to be set on a copy of a slice from a DataFrame.\n",
      "Try using .loc[row_indexer,col_indexer] = value instead\n",
      "\n",
      "See the caveats in the documentation: https://pandas.pydata.org/pandas-docs/stable/user_guide/indexing.html#returning-a-view-versus-a-copy\n",
      "  X[\"gender\"] = X_gender;\n",
      "/tmp/ipykernel_1105/1278451117.py:6: SettingWithCopyWarning: \n",
      "A value is trying to be set on a copy of a slice from a DataFrame.\n",
      "Try using .loc[row_indexer,col_indexer] = value instead\n",
      "\n",
      "See the caveats in the documentation: https://pandas.pydata.org/pandas-docs/stable/user_guide/indexing.html#returning-a-view-versus-a-copy\n",
      "  X[\"smoking_status\"] = X_smoking_status;\n",
      "/tmp/ipykernel_1105/1278451117.py:8: SettingWithCopyWarning: \n",
      "A value is trying to be set on a copy of a slice from a DataFrame.\n",
      "Try using .loc[row_indexer,col_indexer] = value instead\n",
      "\n",
      "See the caveats in the documentation: https://pandas.pydata.org/pandas-docs/stable/user_guide/indexing.html#returning-a-view-versus-a-copy\n",
      "  Y[\"gender\"] = X_gender;\n"
     ]
    }
   ],
   "source": [
    "stroke_data_filtered = stroke_data_filtered.dropna()\n",
    "X_gender = stroke_data_filtered[\"gender\"].map({'Female': 1, 'Male': 0})\n",
    "X_smoking_status = stroke_data_filtered[\"smoking_status\"].map({ \"smokes\": 1, \"never smoked\": 0, \"formerly smoked\": 1})\n",
    "X = stroke_data_filtered[[\"age\", \"bmi\"]]\n",
    "X[\"gender\"] = X_gender;\n",
    "X[\"smoking_status\"] = X_smoking_status;\n",
    "Y = stroke_data_filtered[[\"stroke\"]];\n",
    "Y[\"gender\"] = X_gender;"
   ]
  },
  {
   "cell_type": "markdown",
   "id": "e7d58b73-8601-40b7-a1aa-213ab982c018",
   "metadata": {},
   "source": [
    "### I map male -> 0 and female -> 1.  Additionally, because we've established that smoking has a positive association with stroke chance, with former smokers having the greatest connection, I map smokers -> & former smokers -> 1.0."
   ]
  },
  {
   "cell_type": "code",
   "execution_count": 18,
   "id": "e18cca38-5cb0-46e5-a45a-f0411f11fb99",
   "metadata": {},
   "outputs": [
    {
     "name": "stderr",
     "output_type": "stream",
     "text": [
      "/opt/conda/lib/python3.9/site-packages/pandas/util/_decorators.py:311: SettingWithCopyWarning: \n",
      "A value is trying to be set on a copy of a slice from a DataFrame\n",
      "\n",
      "See the caveats in the documentation: https://pandas.pydata.org/pandas-docs/stable/user_guide/indexing.html#returning-a-view-versus-a-copy\n",
      "  return func(*args, **kwargs)\n"
     ]
    }
   ],
   "source": [
    "#there was one row in Gender that was causing some problems.\n",
    "X.dropna(how='any', axis=0, inplace=True)\n",
    "Y.dropna(how='any', axis=0, inplace=True)\n",
    "Y = Y[\"stroke\"]"
   ]
  },
  {
   "cell_type": "code",
   "execution_count": 19,
   "id": "96c1abca-53d4-4b44-ba94-aaa6c089fc59",
   "metadata": {},
   "outputs": [],
   "source": [
    "#borrowed code from https://datascience.quantecon.org/applications/regression.html\n",
    "X_train, X_test, Y_train, Y_test = sklearn.model_selection.train_test_split(X, Y, test_size=0.25)\n",
    "multiple_reg_model = linear_model.LinearRegression();\n",
    "multiple_reg_model.fit(X_test,Y_test);"
   ]
  },
  {
   "cell_type": "code",
   "execution_count": 20,
   "id": "8dabbd5a-d908-402b-b4d7-88c0ca400aba",
   "metadata": {},
   "outputs": [
    {
     "name": "stdout",
     "output_type": "stream",
     "text": [
      "Intercept: \n",
      " -0.040693676526256765\n",
      "Coefficients: \n",
      " [ 0.00270593 -0.00104877 -0.02173322  0.00390817]\n"
     ]
    }
   ],
   "source": [
    "print('Intercept: \\n', multiple_reg_model.intercept_)\n",
    "print('Coefficients: \\n', multiple_reg_model.coef_)"
   ]
  },
  {
   "cell_type": "markdown",
   "id": "ab2aa4a9-283e-4c6c-801b-ccef1bc2cd9e",
   "metadata": {},
   "source": [
    "As expected, the contribution of BMI is negligible, probably because it's well-predicted by age.  Otherwise, the contributions of each explanatory variable is reasonable.\n",
    "\n",
    "Multiple regression yields the following model:\n",
    "\n",
    "$$P(stroke) \\approx (0.0022)x_{age} + (0.0003)x_{bmi} - (0.0146)x_{gender} + (0.0151)x_{\\text{smoking_status}}$$"
   ]
  },
  {
   "cell_type": "markdown",
   "id": "71391192-6c96-48a1-b6fe-c0ca6435bbb6",
   "metadata": {},
   "source": [
    "## Let's predict the probability you might have a stroke, given your current circumstances:"
   ]
  },
  {
   "cell_type": "code",
   "execution_count": 22,
   "id": "82eb28bc-3f69-4447-8064-0ca150f36fdb",
   "metadata": {},
   "outputs": [],
   "source": [
    "#example input: (23, 26, male, never smoked)"
   ]
  },
  {
   "cell_type": "code",
   "execution_count": 40,
   "id": "a20c7ea6-84df-4af3-9b89-93f5f7f05d2a",
   "metadata": {},
   "outputs": [
    {
     "name": "stdin",
     "output_type": "stream",
     "text": [
      "What is your age in years?:  80.0\n"
     ]
    }
   ],
   "source": [
    "U_age = input(\"What is your age in years?: \")"
   ]
  },
  {
   "cell_type": "code",
   "execution_count": 41,
   "id": "568fa889-8443-4964-bb27-a289cf458ec4",
   "metadata": {},
   "outputs": [
    {
     "name": "stdin",
     "output_type": "stream",
     "text": [
      "What is your bmi?:  23.0\n"
     ]
    }
   ],
   "source": [
    "U_bmi = input(\"What is your bmi?: \")"
   ]
  },
  {
   "cell_type": "code",
   "execution_count": 42,
   "id": "cce07d6b-adb8-4ec6-9342-aa99f10aeacb",
   "metadata": {},
   "outputs": [
    {
     "name": "stdin",
     "output_type": "stream",
     "text": [
      "Are you male or female?:  male\n"
     ]
    }
   ],
   "source": [
    "U_gender = input(\"Are you male or female?: \").lower()\n",
    "if U_gender == \"female\":\n",
    "    U_gender = 1.0 \n",
    "else: \n",
    "    U_gender = 0.0"
   ]
  },
  {
   "cell_type": "code",
   "execution_count": 43,
   "id": "98ed8b79-efbc-437f-9397-ef6e39edef2e",
   "metadata": {},
   "outputs": [
    {
     "name": "stdin",
     "output_type": "stream",
     "text": [
      "What is your smoking status?  Please reply with either: smoked or never smoked:  never smoked\n"
     ]
    }
   ],
   "source": [
    "U_smoker = input(\"What is your smoking status?  Please reply with either: smoked or never smoked: \")\n",
    "if U_smoker == \"smoked\":\n",
    "    U_smoker = 1.0 \n",
    "else: \n",
    "    U_smoker = 0.0"
   ]
  },
  {
   "cell_type": "code",
   "execution_count": 44,
   "id": "53e8d6a3-47ae-4ded-8e18-504e173bceab",
   "metadata": {},
   "outputs": [
    {
     "name": "stdout",
     "output_type": "stream",
     "text": [
      "By this model, the predicted probability of you suffering a stroke is: 15.165875257538985%.\n"
     ]
    },
    {
     "name": "stderr",
     "output_type": "stream",
     "text": [
      "/opt/conda/lib/python3.9/site-packages/sklearn/utils/validation.py:63: FutureWarning: Arrays of bytes/strings is being converted to decimal numbers if dtype='numeric'. This behavior is deprecated in 0.24 and will be removed in 1.1 (renaming of 0.26). Please convert your data to numeric values explicitly instead.\n",
      "  return f(*args, **kwargs)\n"
     ]
    }
   ],
   "source": [
    "print(f\"By this model, the predicted probability of you suffering a stroke is: {multiple_reg_model.predict([[U_age,U_bmi,U_gender,U_smoker]])[0]*100}%.\")"
   ]
  },
  {
   "cell_type": "code",
   "execution_count": null,
   "id": "0cb5fa89-14b6-42fd-84ae-b2289e93d3c1",
   "metadata": {},
   "outputs": [],
   "source": []
  }
 ],
 "metadata": {
  "kernelspec": {
   "display_name": "Python 3 (ipykernel)",
   "language": "python",
   "name": "python3"
  },
  "language_info": {
   "codemirror_mode": {
    "name": "ipython",
    "version": 3
   },
   "file_extension": ".py",
   "mimetype": "text/x-python",
   "name": "python",
   "nbconvert_exporter": "python",
   "pygments_lexer": "ipython3",
   "version": "3.9.6"
  }
 },
 "nbformat": 4,
 "nbformat_minor": 5
}
